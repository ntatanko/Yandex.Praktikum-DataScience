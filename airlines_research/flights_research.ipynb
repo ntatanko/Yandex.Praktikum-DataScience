{
 "cells": [
  {
   "cell_type": "markdown",
   "metadata": {},
   "source": [
    "For a Russian airline that performs domestic passenger transportation, it is important to understand the preferences of users who buy tickets to different destinations.\n",
    "\n",
    "## Task:\n",
    "- upload and prepare airline data using SQL,\n",
    "- test the hypothesis about the difference in the average demand for tickets during different events.\n",
    "\n",
    "## Description of the data\n",
    "At your disposal is a database about air transportation.\n",
    "\n",
    "Для российской авиакомпании, выполняющей внутренние пассажирские перевозки важно понять предпочтения пользователей, покупающих билеты на разные направления.\n",
    "\n",
    "## Задача: \n",
    " - произвести выгрузки и подготовку данных авиакомпании с помощью SQL,\n",
    " - проверить гипотезу о различии среднего спроса на билеты во время различных событий.\n",
    " \n",
    "## Описание данных\n",
    "В вашем распоряжении база данных об авиаперевозках.  \n"
   ]
  },
  {
   "cell_type": "markdown",
   "metadata": {},
   "source": [
    "# Working with a database using SQL / Работа с базой данных средствами SQL"
   ]
  },
  {
   "cell_type": "markdown",
   "metadata": {},
   "source": [
    "1. Find the number of flights of each aircraft model with departure in September 2018.   \n",
    "Найти количество рейсов каждой модели самолёта с вылетом в сентябре 2018 года. \n",
    "\n",
    "```\n",
    "SELECT\n",
    "   aircrafts.model,\n",
    "   COUNT(flights.flight_id) AS flights_amount\n",
    "FROM flights\n",
    "INNER JOIN aircrafts ON aircrafts.aircraft_code =flights.aircraft_code\n",
    "WHERE EXTRACT(MONTH FROM departure_time) = '09' AND EXTRACT(YEAR FROM departure_time) = '2018'\n",
    "GROUP BY aircrafts.model\n",
    "```\n",
    "2. Calculate the flights of the following aircraft models in September:  \n",
    "Посчитать отправленные в сентябре рейсы самолётов следующих моделей:\n",
    "     - Boeing,\n",
    "     - Airbus,\n",
    "     - другие (“other”).\n",
    "     \n",
    "```\n",
    "SELECT \n",
    "    CASE\n",
    "        WHEN model LIKE '%Boeing%' THEN 'Boeing'\n",
    "        WHEN model LIKE '%Airbus%' THEN 'Airbus'\n",
    "        ELSE 'other'\n",
    "    END AS model_1,\n",
    "    COUNT(*) AS flights_amount\n",
    "FROM flights\n",
    "INNER JOIN aircrafts ON aircrafts.aircraft_code=flights.aircraft_code\n",
    "WHERE  EXTRACT(MONTH FROM flights.departure_time)='09'\n",
    "GROUP BY model_1\n",
    "```\n",
    "\n",
    "3. Calculate the average number of incoming flights per day for each city for August 2018.  \n",
    "Посчитать среднее количество прибывающих рейсов в день для каждого города за август 2018 года.\n",
    "\n",
    "```\n",
    "SELECT\n",
    "    subq.city,\n",
    "    AVG(subq.cnt) AS average_flights\n",
    "FROM\n",
    "(SELECT\n",
    "    EXTRACT(DAY FROM arrival_time),\n",
    "    city,\n",
    "    COUNT(flights.flight_id) AS cnt\n",
    "FROM flights\n",
    "INNER JOIN airports ON airports.airport_code=flights.arrival_airport\n",
    "WHERE\n",
    "    EXTRACT(MONTH FROM flights.departure_time)='08' \n",
    "    AND EXTRACT(YEAR FROM flights.departure_time)='2018'\n",
    "GROUP BY city, EXTRACT(DAY FROM arrival_time)) AS SUBQ\n",
    "GROUP BY subq.city\n",
    "```\n",
    "\n",
    "4. Find the festivals that took place from July 23 to September 30, 2018 in Moscow, and the number of the week in which they took place.  \n",
    "Найти фестивали, которые проходили с 23 июля по 30 сентября 2018 года в Москве, и номер недели, в которую они проходили.\n",
    "\n",
    "```\n",
    "SELECT\n",
    "    festival_name,\n",
    "    EXTRACT(WEEK FROM festival_date) AS festival_week\n",
    "FROM festivals\n",
    "WHERE festival_date BETWEEN '2018-07-23' and '2018-09-30'\n",
    "    AND festival_city='Москва'\n",
    "```\n",
    "    \n",
    "5. For each week from July 23 to September 30, 2018, count the tickets to Moscow. Get a table:  \n",
    "Для каждой недели с 23 июля по 30 сентября 2018 года посчитать билеты на рейсы в Москву. Получить таблицу:\n",
    " - с количеством купленных за неделю билетов;\n",
    " - отметкой, проходил ли в эту неделю фестиваль;\n",
    " - название фестиваля festival_name;\n",
    " - номер недели week_number.\n",
    "\n",
    "```\n",
    "SELECT \n",
    "    SUBQ.week_number,\n",
    "    SUBQ.ticket_amount,\n",
    "    CASE\n",
    "        WHEN SUBQ.festival_week IS NULL THEN NULL\n",
    "        ELSE SUBQ.festival_week\n",
    "        END AS festival_week,\n",
    "    CASE\n",
    "        WHEN SUBQ.festival_name IS NULL THEN NULL\n",
    "        ELSE SUBQ.festival_name\n",
    "        END AS festival_name\n",
    "\n",
    "\n",
    "\n",
    "FROM \n",
    "((SELECT\n",
    "     EXTRACT(WEEK FROM arrival_time::date) AS week_number,\n",
    "     COUNT(ticket_no) AS ticket_amount\n",
    "FROM flights\n",
    "    INNER JOIN airports ON airports.airport_code = flights.arrival_airport\n",
    "    INNER JOIN ticket_flights ON flights.flight_id = ticket_flights.flight_id\n",
    "WHERE CAST(flights.departure_time AS DATE) BETWEEN '2018-07-23' AND '2018-09-30'\n",
    "     AND airports.city = 'Москва'\n",
    "GROUP BY week_number\n",
    "ORDER BY week_number) AS SUBQ1\n",
    "\n",
    "LEFT JOIN \n",
    "(SELECT         \n",
    "        festival_name,  \n",
    "        EXTRACT (WEEK FROM festivals.festival_date::date) AS festival_week\n",
    "    FROM \n",
    "        festivals\n",
    "    WHERE\n",
    "        festival_city = 'Москва'\n",
    "      AND festivals.festival_date::date BETWEEN '2018-07-23' AND '2018-09-30'\n",
    ") AS SUBQ2\n",
    "ON SUBQ1.week_number = SUBQ2.festival_week) AS SUBQ\n",
    "ORDER BY week_number\n",
    "```"
   ]
  },
  {
   "cell_type": "markdown",
   "metadata": {},
   "source": [
    "# Analytics with Python\n",
    "Examine the data obtained as a result of queries from the previous task.\n",
    "\n",
    "## Check the hypothesis:\n",
    "The average demand for tickets during festivals does not differ from the average demand for tickets at normal times.  \n",
    "\n",
    "# Аналитика средствами Python\n",
    "Изучить данные, полученные в результате запросов из предыдущего задания.\n",
    "\n",
    "\n",
    "## Проверка гипотезы:\n",
    "Средний спрос на билеты во время фестивалей не отличается от среднего спроса на билеты в обычное время."
   ]
  },
  {
   "cell_type": "markdown",
   "metadata": {},
   "source": [
    "## Content\n",
    "1. [Analytics](#1)\n",
    "2. [Hypothesis Testing](#2)\n",
    "3. [Conclusions](#3)\n",
    "\n",
    "## Содержание\n",
    "1. [Аналитика](#1)\n",
    "2. [Проверка гипотезы](#2)\n",
    "3. [Выводы](#3)"
   ]
  },
  {
   "cell_type": "markdown",
   "metadata": {},
   "source": [
    "<a id='1'></a>"
   ]
  },
  {
   "cell_type": "markdown",
   "metadata": {},
   "source": [
    "# 1. Analytics / Аналитика"
   ]
  },
  {
   "cell_type": "code",
   "execution_count": 1,
   "metadata": {},
   "outputs": [],
   "source": [
    "import numpy as np\n",
    "import pandas as pd\n",
    "import scipy.stats as st\n",
    "from IPython.core.interactiveshell import InteractiveShell\n",
    "InteractiveShell.ast_node_interactivity = \"all\"\n",
    "import matplotlib.pyplot as plt\n",
    "import seaborn as sns"
   ]
  },
  {
   "cell_type": "code",
   "execution_count": 2,
   "metadata": {},
   "outputs": [],
   "source": [
    "query_1 = pd.read_csv(\"/datasets/query_1.csv\")\n",
    "query_3 = pd.read_csv(\"/datasets/query_3.csv\")\n",
    "query_last = pd.read_csv(\"/datasets/query_last.csv\")"
   ]
  },
  {
   "cell_type": "code",
   "execution_count": 3,
   "metadata": {},
   "outputs": [
    {
     "data": {
      "text/html": [
       "<div>\n",
       "<style scoped>\n",
       "    .dataframe tbody tr th:only-of-type {\n",
       "        vertical-align: middle;\n",
       "    }\n",
       "\n",
       "    .dataframe tbody tr th {\n",
       "        vertical-align: top;\n",
       "    }\n",
       "\n",
       "    .dataframe thead th {\n",
       "        text-align: right;\n",
       "    }\n",
       "</style>\n",
       "<table border=\"1\" class=\"dataframe\">\n",
       "  <thead>\n",
       "    <tr style=\"text-align: right;\">\n",
       "      <th></th>\n",
       "      <th>model</th>\n",
       "      <th>flights_amount</th>\n",
       "    </tr>\n",
       "  </thead>\n",
       "  <tbody>\n",
       "    <tr>\n",
       "      <td>0</td>\n",
       "      <td>Airbus A319-100</td>\n",
       "      <td>607</td>\n",
       "    </tr>\n",
       "    <tr>\n",
       "      <td>1</td>\n",
       "      <td>Airbus A321-200</td>\n",
       "      <td>960</td>\n",
       "    </tr>\n",
       "    <tr>\n",
       "      <td>2</td>\n",
       "      <td>Boeing 737-300</td>\n",
       "      <td>630</td>\n",
       "    </tr>\n",
       "    <tr>\n",
       "      <td>3</td>\n",
       "      <td>Boeing 767-300</td>\n",
       "      <td>600</td>\n",
       "    </tr>\n",
       "    <tr>\n",
       "      <td>4</td>\n",
       "      <td>Boeing 777-300</td>\n",
       "      <td>300</td>\n",
       "    </tr>\n",
       "  </tbody>\n",
       "</table>\n",
       "</div>"
      ],
      "text/plain": [
       "             model  flights_amount\n",
       "0  Airbus A319-100             607\n",
       "1  Airbus A321-200             960\n",
       "2   Boeing 737-300             630\n",
       "3   Boeing 767-300             600\n",
       "4   Boeing 777-300             300"
      ]
     },
     "execution_count": 3,
     "metadata": {},
     "output_type": "execute_result"
    },
    {
     "name": "stdout",
     "output_type": "stream",
     "text": [
      "<class 'pandas.core.frame.DataFrame'>\n",
      "RangeIndex: 8 entries, 0 to 7\n",
      "Data columns (total 2 columns):\n",
      "model             8 non-null object\n",
      "flights_amount    8 non-null int64\n",
      "dtypes: int64(1), object(1)\n",
      "memory usage: 256.0+ bytes\n"
     ]
    }
   ],
   "source": [
    "query_1.head()\n",
    "query_1.info()"
   ]
  },
  {
   "cell_type": "markdown",
   "metadata": {},
   "source": [
    "The table has 8 rows, two columns (aircraft models and the number of flights for each aircraft model in September 2018), there are no missing values, the data types correspond to the content of the columns.   \n",
    "В таблице 8 строк, два столбца (модели самолетов и  количество рейсов для каждой модели самолетов в сентябре 2018 года), пропусков нет, типы данных соответствуют содержимому столбцов."
   ]
  },
  {
   "cell_type": "code",
   "execution_count": 4,
   "metadata": {},
   "outputs": [
    {
     "data": {
      "text/html": [
       "<div>\n",
       "<style scoped>\n",
       "    .dataframe tbody tr th:only-of-type {\n",
       "        vertical-align: middle;\n",
       "    }\n",
       "\n",
       "    .dataframe tbody tr th {\n",
       "        vertical-align: top;\n",
       "    }\n",
       "\n",
       "    .dataframe thead th {\n",
       "        text-align: right;\n",
       "    }\n",
       "</style>\n",
       "<table border=\"1\" class=\"dataframe\">\n",
       "  <thead>\n",
       "    <tr style=\"text-align: right;\">\n",
       "      <th></th>\n",
       "      <th>city</th>\n",
       "      <th>average_flights</th>\n",
       "    </tr>\n",
       "  </thead>\n",
       "  <tbody>\n",
       "    <tr>\n",
       "      <td>0</td>\n",
       "      <td>Абакан</td>\n",
       "      <td>3.870968</td>\n",
       "    </tr>\n",
       "    <tr>\n",
       "      <td>1</td>\n",
       "      <td>Анадырь</td>\n",
       "      <td>1.000000</td>\n",
       "    </tr>\n",
       "    <tr>\n",
       "      <td>2</td>\n",
       "      <td>Анапа</td>\n",
       "      <td>2.161290</td>\n",
       "    </tr>\n",
       "    <tr>\n",
       "      <td>3</td>\n",
       "      <td>Архангельск</td>\n",
       "      <td>5.354839</td>\n",
       "    </tr>\n",
       "    <tr>\n",
       "      <td>4</td>\n",
       "      <td>Астрахань</td>\n",
       "      <td>2.451613</td>\n",
       "    </tr>\n",
       "  </tbody>\n",
       "</table>\n",
       "</div>"
      ],
      "text/plain": [
       "          city  average_flights\n",
       "0       Абакан         3.870968\n",
       "1      Анадырь         1.000000\n",
       "2        Анапа         2.161290\n",
       "3  Архангельск         5.354839\n",
       "4    Астрахань         2.451613"
      ]
     },
     "execution_count": 4,
     "metadata": {},
     "output_type": "execute_result"
    },
    {
     "name": "stdout",
     "output_type": "stream",
     "text": [
      "<class 'pandas.core.frame.DataFrame'>\n",
      "RangeIndex: 101 entries, 0 to 100\n",
      "Data columns (total 2 columns):\n",
      "city               101 non-null object\n",
      "average_flights    101 non-null float64\n",
      "dtypes: float64(1), object(1)\n",
      "memory usage: 1.7+ KB\n"
     ]
    }
   ],
   "source": [
    "query_3.head()\n",
    "query_3.info()"
   ]
  },
  {
   "cell_type": "markdown",
   "metadata": {},
   "source": [
    "The table has 101 rows, two columns (city names and the average number of flights arriving in the city per day in September 2018), there are no missing values, the data types correspond to the content of the columns.  \n",
    "В таблице 101 строка, два столбца (названия городов и среднее количество рейсов, прибывающих в город за день в сентябре 2018 года), пропусков нет, типы данных соответствуют содержимому столбцов."
   ]
  },
  {
   "cell_type": "code",
   "execution_count": 5,
   "metadata": {
    "scrolled": true
   },
   "outputs": [
    {
     "data": {
      "text/html": [
       "<div>\n",
       "<style scoped>\n",
       "    .dataframe tbody tr th:only-of-type {\n",
       "        vertical-align: middle;\n",
       "    }\n",
       "\n",
       "    .dataframe tbody tr th {\n",
       "        vertical-align: top;\n",
       "    }\n",
       "\n",
       "    .dataframe thead th {\n",
       "        text-align: right;\n",
       "    }\n",
       "</style>\n",
       "<table border=\"1\" class=\"dataframe\">\n",
       "  <thead>\n",
       "    <tr style=\"text-align: right;\">\n",
       "      <th></th>\n",
       "      <th>week_number</th>\n",
       "      <th>ticket_amount</th>\n",
       "      <th>festival_week</th>\n",
       "      <th>festival_name</th>\n",
       "    </tr>\n",
       "  </thead>\n",
       "  <tbody>\n",
       "    <tr>\n",
       "      <td>0</td>\n",
       "      <td>30</td>\n",
       "      <td>43568</td>\n",
       "      <td>30.0</td>\n",
       "      <td>Park Live</td>\n",
       "    </tr>\n",
       "    <tr>\n",
       "      <td>1</td>\n",
       "      <td>31</td>\n",
       "      <td>51034</td>\n",
       "      <td>31.0</td>\n",
       "      <td>Пикник Афиши</td>\n",
       "    </tr>\n",
       "    <tr>\n",
       "      <td>2</td>\n",
       "      <td>32</td>\n",
       "      <td>51675</td>\n",
       "      <td>NaN</td>\n",
       "      <td>NaN</td>\n",
       "    </tr>\n",
       "    <tr>\n",
       "      <td>3</td>\n",
       "      <td>33</td>\n",
       "      <td>51378</td>\n",
       "      <td>NaN</td>\n",
       "      <td>NaN</td>\n",
       "    </tr>\n",
       "    <tr>\n",
       "      <td>4</td>\n",
       "      <td>34</td>\n",
       "      <td>51492</td>\n",
       "      <td>NaN</td>\n",
       "      <td>NaN</td>\n",
       "    </tr>\n",
       "  </tbody>\n",
       "</table>\n",
       "</div>"
      ],
      "text/plain": [
       "   week_number  ticket_amount  festival_week festival_name\n",
       "0           30          43568           30.0     Park Live\n",
       "1           31          51034           31.0  Пикник Афиши\n",
       "2           32          51675            NaN           NaN\n",
       "3           33          51378            NaN           NaN\n",
       "4           34          51492            NaN           NaN"
      ]
     },
     "execution_count": 5,
     "metadata": {},
     "output_type": "execute_result"
    },
    {
     "name": "stdout",
     "output_type": "stream",
     "text": [
      "<class 'pandas.core.frame.DataFrame'>\n",
      "RangeIndex: 10 entries, 0 to 9\n",
      "Data columns (total 4 columns):\n",
      "week_number      10 non-null int64\n",
      "ticket_amount    10 non-null int64\n",
      "festival_week    3 non-null float64\n",
      "festival_name    3 non-null object\n",
      "dtypes: float64(1), int64(2), object(1)\n",
      "memory usage: 448.0+ bytes\n"
     ]
    }
   ],
   "source": [
    "query_last.head()\n",
    "query_last.info()"
   ]
  },
  {
   "cell_type": "markdown",
   "metadata": {},
   "source": [
    "The table has 10 rows, 4 columns:\n",
    "- *week_number* — week number;\n",
    "- *ticket_amount* — number of tickets sold per week;\n",
    "- *festival_week* — is there a festival this week;\n",
    "- *festival_name* — name of the festival,\n",
    "The *festival_week * column is of the float64 type, since it has missing values, the *festival_name* column also has missing values.  \n",
    "\n",
    "В таблице 10 строк, 4 столбца:  \n",
    "- *week_number* — номер недели;\n",
    "- *ticket_amount* — количество проданных билетов за неделю;\n",
    "- *festival_week* — есть ли на этой неделе фестиваль;\n",
    "- *festival_name* — название фестиваля,  \n",
    "Столбец *festival_week* — типа float64, поскольку в нем есть пропущенные значения, в столбце *festival_name* также есть пропуски."
   ]
  },
  {
   "cell_type": "markdown",
   "metadata": {},
   "source": [
    "#### Let's see check models of aircraft made the most flights in September.  \n",
    "#### Посмотрим, какие модели самолеты совершали в сентябре больше всего рейсов."
   ]
  },
  {
   "cell_type": "code",
   "execution_count": 6,
   "metadata": {},
   "outputs": [
    {
     "data": {
      "image/png": "[encoded data removed]",
      "text/plain": [
       "<Figure size 720x432 with 1 Axes>"
      ]
     },
     "metadata": {
      "needs_background": "light"
     },
     "output_type": "display_data"
    }
   ],
   "source": [
    "plt.figure(figsize=(10, 6))\n",
    "plt.title(\"Количество рейсов каждой модели самолётов в сентябре 2018 года\")\n",
    "sns.barplot(\n",
    "    data=query_1.sort_values(by=\"flights_amount\", ascending=False),\n",
    "    x=\"model\",\n",
    "    y=\"flights_amount\",\n",
    ")\n",
    "plt.xlabel(\"модель самолета\")\n",
    "plt.ylabel(\"количество рейсов\")\n",
    "plt.xticks(rotation=60)\n",
    "plt.show();"
   ]
  },
  {
   "cell_type": "markdown",
   "metadata": {},
   "source": [
    "The leaders are - \"Cessna 208 Caravan\", \"Bombardier CRJ-200\" and \"Sukhoi SuperJet-100\".\n",
    "- Cessna 208 Caravan-light single-engine turboprop general purpose aircraft used for regional and local air transport, with a capacity of up to 13 passengers,\n",
    "- Bombardier CRJ-200-used for regional air transport, with a capacity of up to 50 passengers,\n",
    "- Sukhoi SuperJet-100 is a Russian short-haul passenger aircraft designed to carry from 87 to 108 passengers over distances of 3050-4600 km.\n",
    "Next come:\n",
    "- Airbus A321-200 in fourth place, airliner for short and medium-haul airlines, passenger capacity 140 to 180 people, flight range up to 6150km,\n",
    "- Boeing 737-300 in fifth place, the same class as Airbus A321-200-short-and medium-haul airliner, 108-168 passengers, flight range 4200 km,\n",
    "- Airbus A319-100-modification of Airbus A320, passenger capacity 116-156 people, flight range 6850 km,\n",
    "These are models of aircraft of the same class with a similar number of passengers and flight range.\n",
    "And, finally, the least flights were made:\n",
    "- Boeing 767-300-airliner designed for medium and long-haul flights, passenger capacity from 218 to 350 people, range 9700 km,\n",
    "- Boeing 777-300 airliner for long-distance flights, passenger capacity up to 550 people, flight range up to 11,120 kilometers.\n",
    "That is, most often flew small aircraft designed for regional and local air transport. In the absence of source tables, it is not possible to see between which cities they flew, but most often these are small cities not in the European part of the country. The larger the aircraft, the greater the passenger capacity and the greater the possible range of flights, the fewer flights the aircraft made.\n",
    "\n",
    "In this case, it is interesting to look at the number of passengers transported and compare it by this characteristic, as well as look at the geography of flights for these models, but, unfortunately, there are no tables available."
   ]
  },
  {
   "cell_type": "markdown",
   "metadata": {},
   "source": [
    "Лидеры по количеству рейсов  - 'Cessna 208 Caravan', 'Bombardier CRJ-200' и 'Sukhoi SuperJet-100'.  \n",
    " - Cessna 208 Caravan - лёгкий одномоторный турбовинтовой самолёт общего назначения, используемый для региональных и местных воздушных перевозок, вместимостью до 13 пассажиров,\n",
    " - Bombardier CRJ-200 - используется для региональных воздушных перевозок, вместимостью до 50 пассажиров,\n",
    " - Sukhoi SuperJet-100 -  российский ближнемагистральный пассажирский самолёт, предназначенный для перевозки от 87 до 108 пассажиров на расстояния 3050-4600 км.  \n",
    "Далее идут:\n",
    " - Airbus A321-200 на четвертом месте, авиалайнер для авиалиний малой и средней протяжённости, пассажировместимость 140 до 180 человек, дальность перелетов до 6150км,\n",
    " - Boeing 737-300 на пятом месте, того же класса, что и Airbus A321-200 - ближне- и среднемагистральный авиалайнер, 108-168 пассажиров, дальность полетов 4200 км,\n",
    " - Airbus A319-100 - модификация Airbus A320, пассажировместимость 116 - 156 человек,  дальность полетов 6850км,\n",
    "Это модели самолетов одинакового класса с похожим количеством пассажиров и дальностью перелетов.  \n",
    "И, наконец, меньше всего полетов совершили:\n",
    " - Boeing 767-300 - авиалайнер, предназначенный для совершения полётов средней и большой протяжённости, пассажировместимость от 218 до 350 человек, дальность 9700км,\n",
    " - Boeing 777-300 авиалайнер для совершения полётов большой протяжённости, пассажировместимость до 550 человек, дальность полетов до 11 120 километров.\n",
    "То есть чаще всего летали небольшие самолеты, предназначенные для региональных и местных воздушных перевозок. При отсутствии исходных таблиц нет возможности посмотреть, между какими городами они выполняли полеты, но скоре всего это небольшие города не в европейской части страны.  Чем больше самолет, больше пассажировместимость и больше возможная дальность перелетов, тем меньше рейсов совершали самолеты.\n",
    "\n",
    "В данном случае интересно посмотреть на количество перевезенных пассажиров и сравнить по этой характеристике,  а также посмотреть на географию полетов для этих моделей, но, к сожалению, нет доступных таблиц."
   ]
  },
  {
   "cell_type": "markdown",
   "metadata": {},
   "source": [
    "#### Let's look at the top 10 cities by the average number of flights arriving in the city per day in September 2018.:  \n",
    "#### Посмотрим топ-10 городов по среднему количеству рейсов, прибывающих в город за день в сентябре 2018 года.: "
   ]
  },
  {
   "cell_type": "code",
   "execution_count": 7,
   "metadata": {},
   "outputs": [
    {
     "data": {
      "text/html": [
       "<div>\n",
       "<style scoped>\n",
       "    .dataframe tbody tr th:only-of-type {\n",
       "        vertical-align: middle;\n",
       "    }\n",
       "\n",
       "    .dataframe tbody tr th {\n",
       "        vertical-align: top;\n",
       "    }\n",
       "\n",
       "    .dataframe thead th {\n",
       "        text-align: right;\n",
       "    }\n",
       "</style>\n",
       "<table border=\"1\" class=\"dataframe\">\n",
       "  <thead>\n",
       "    <tr style=\"text-align: right;\">\n",
       "      <th></th>\n",
       "      <th>city</th>\n",
       "      <th>average_flights</th>\n",
       "    </tr>\n",
       "  </thead>\n",
       "  <tbody>\n",
       "    <tr>\n",
       "      <td>43</td>\n",
       "      <td>Москва</td>\n",
       "      <td>129.774194</td>\n",
       "    </tr>\n",
       "    <tr>\n",
       "      <td>70</td>\n",
       "      <td>Санкт-Петербург</td>\n",
       "      <td>31.161290</td>\n",
       "    </tr>\n",
       "    <tr>\n",
       "      <td>54</td>\n",
       "      <td>Новосибирск</td>\n",
       "      <td>17.322581</td>\n",
       "    </tr>\n",
       "    <tr>\n",
       "      <td>33</td>\n",
       "      <td>Красноярск</td>\n",
       "      <td>11.580645</td>\n",
       "    </tr>\n",
       "    <tr>\n",
       "      <td>20</td>\n",
       "      <td>Екатеринбург</td>\n",
       "      <td>11.322581</td>\n",
       "    </tr>\n",
       "    <tr>\n",
       "      <td>67</td>\n",
       "      <td>Ростов-на-Дону</td>\n",
       "      <td>10.193548</td>\n",
       "    </tr>\n",
       "    <tr>\n",
       "      <td>63</td>\n",
       "      <td>Пермь</td>\n",
       "      <td>10.129032</td>\n",
       "    </tr>\n",
       "    <tr>\n",
       "      <td>10</td>\n",
       "      <td>Брянск</td>\n",
       "      <td>10.000000</td>\n",
       "    </tr>\n",
       "    <tr>\n",
       "      <td>74</td>\n",
       "      <td>Сочи</td>\n",
       "      <td>9.612903</td>\n",
       "    </tr>\n",
       "    <tr>\n",
       "      <td>84</td>\n",
       "      <td>Ульяновск</td>\n",
       "      <td>9.580645</td>\n",
       "    </tr>\n",
       "  </tbody>\n",
       "</table>\n",
       "</div>"
      ],
      "text/plain": [
       "               city  average_flights\n",
       "43           Москва       129.774194\n",
       "70  Санкт-Петербург        31.161290\n",
       "54      Новосибирск        17.322581\n",
       "33       Красноярск        11.580645\n",
       "20     Екатеринбург        11.322581\n",
       "67   Ростов-на-Дону        10.193548\n",
       "63            Пермь        10.129032\n",
       "10           Брянск        10.000000\n",
       "74             Сочи         9.612903\n",
       "84        Ульяновск         9.580645"
      ]
     },
     "execution_count": 7,
     "metadata": {},
     "output_type": "execute_result"
    }
   ],
   "source": [
    "top_10 = query_3.sort_values(by=\"average_flights\", ascending=False).head(10)\n",
    "top_10"
   ]
  },
  {
   "cell_type": "code",
   "execution_count": 8,
   "metadata": {},
   "outputs": [
    {
     "data": {
      "image/png": "[encoded data removed]",
      "text/plain": [
       "<Figure size 720x432 with 1 Axes>"
      ]
     },
     "metadata": {
      "needs_background": "light"
     },
     "output_type": "display_data"
    }
   ],
   "source": [
    "plt.figure(figsize=(10, 6))\n",
    "plt.title(\"Топ-10 городов по среднему количеству рейсов  за день в сентябре 2018 года\")\n",
    "sns.barplot(data=top_10, x=\"city\", y=\"average_flights\")\n",
    "plt.xlabel(\"города\")\n",
    "plt.ylabel(\"среднее количество рейсов\")\n",
    "plt.xticks(rotation=45)\n",
    "plt.show();"
   ]
  },
  {
   "cell_type": "markdown",
   "metadata": {},
   "source": [
    "Moscow is in the first place, on average 129.77 flights arrived per day in September 2018, in second place - St. Petersburg (31.16 flights), in third - Novosibirsk (17.32 flights). Moscow is not only the largest city, it is also often a connecting city for flights with transfers, so, apparently, although the population of Moscow is 2.2 times larger than St. Petersburg, there are 4.2 times more flights to Moscow. The population of St. Petersburg is 2 times larger than the population of Novosibirsk, and 1.8 times more flights arrive there.\n",
    "Then there are Krasnoyarsk (11.6 flights), Yekaterinburg (11.3), Rostov-on-Don (10.2) and Perm (10) - cities with a population of more than a million people, then - Bryansk (10 flights), Sochi (9.6) and Ulyanovsk (9.6) - cities with a population of 400-600 thousand people.\n",
    "\n",
    "Here it would also be interesting to look at the number of arrivals, and not just the number of flights, since the planes have different capacities, but we do not have such information.  \n",
    "\n",
    "На первом месте Москва - в среднем в сентябре 2018 года прилетало 129.77 рейсов в день, на втором месте - Санкт-Петербург (31.16 рейсов), на третьем - Новосибирск (17.32 рейсов). Москва - не только самый крупный город, он также часто является стыковочным при полетах с пересадками, поэтому, видимо, хоть население Москвы в 2,2 раза больше Санкт-Петербурга, прилетает в Москву в 4,2 раза больше рейсов. Население Санкт-Петербурга в 2 раза больше населения Новосибирска, прилетает в него в 1,8 раз больше рейсов.    \n",
    "Дальше идут Красноярск (11,6 рейсов), Екатеринбург (11,3), Ростов-на-Дону (10,2) и Пермь (10) - города с населением больше миллиона человек, дальше - Брянск (10 рейсов), Сочи (9,6) и Ульяновск (9,6) - города с населением 400-600тыс человек.  \n",
    "\n",
    "Тут было бы еще интересно помсмотреть на количество прилетающих, а не только на количество рейсов, так как самолеты разной вместимости, но такой информации у нас нет."
   ]
  },
  {
   "cell_type": "markdown",
   "metadata": {},
   "source": [
    "#### Plot of the average amount of flights per day for all cities in September 2018.\n",
    "#### График среднего количества рейсов в день для всех городов в сентябре 2018 года."
   ]
  },
  {
   "cell_type": "code",
   "execution_count": 9,
   "metadata": {
    "scrolled": true
   },
   "outputs": [
    {
     "data": {
      "image/png": "[encoded data removed]",
      "text/plain": [
       "<Figure size 576x1440 with 1 Axes>"
      ]
     },
     "metadata": {
      "needs_background": "light"
     },
     "output_type": "display_data"
    }
   ],
   "source": [
    "plt.figure(figsize=(8, 20))\n",
    "plt.title(\"Среднее количество рейсов в города за день в сентябре 2018 года\")\n",
    "sns.barplot(\n",
    "    data=query_3.sort_values(by=\"average_flights\", ascending=False),\n",
    "    y=\"city\",\n",
    "    x=\"average_flights\",\n",
    ")\n",
    "plt.xlabel(\"города\")\n",
    "plt.ylabel(\"среднее количество рейсов\")\n",
    "plt.xticks(rotation=45)\n",
    "plt.show();"
   ]
  },
  {
   "cell_type": "markdown",
   "metadata": {},
   "source": [
    "Without data on the population, the amount of arrivals, the types of aircraft and the availability of other communication with these cities, it is difficult to say anything. For example, on the 11th place - the city of Sovetsky in the Khanty-Mansi Autonomous Okrug with a population of only 29,000 people, but  there are about the same number of flights as to Ulyanovsk.  \n",
    "\n",
    "Без данных о населении, количестве прилетающих, типах самолетов и наличии другого сообщения с этими городами сложно что-либо сказать. Например, на 11 месте - город Советский в Ханты-Мансийском автономном округе с населением всего 29000 человек, но рейсов там примерно как в Ульяновске."
   ]
  },
  {
   "cell_type": "markdown",
   "metadata": {},
   "source": [
    "<a id='2'></a>"
   ]
  },
  {
   "cell_type": "markdown",
   "metadata": {},
   "source": [
    "# 2. Проверка гипотезы"
   ]
  },
  {
   "cell_type": "markdown",
   "metadata": {},
   "source": [
    "#### Hypothesis:\n",
    "the average demand for tickets during festivals does not differ from the average demand for tickets at normal times.  \n",
    "\n",
    "#### Гипотеза:\n",
    "средний спрос на билеты во время фестивалей не отличается от среднего спроса на билеты в обычное время.\n"
   ]
  },
  {
   "cell_type": "markdown",
   "metadata": {},
   "source": [
    "Let's look at the data:  \n",
    "Посмотрим на таблицу:"
   ]
  },
  {
   "cell_type": "code",
   "execution_count": 10,
   "metadata": {
    "scrolled": true
   },
   "outputs": [
    {
     "data": {
      "text/html": [
       "<div>\n",
       "<style scoped>\n",
       "    .dataframe tbody tr th:only-of-type {\n",
       "        vertical-align: middle;\n",
       "    }\n",
       "\n",
       "    .dataframe tbody tr th {\n",
       "        vertical-align: top;\n",
       "    }\n",
       "\n",
       "    .dataframe thead th {\n",
       "        text-align: right;\n",
       "    }\n",
       "</style>\n",
       "<table border=\"1\" class=\"dataframe\">\n",
       "  <thead>\n",
       "    <tr style=\"text-align: right;\">\n",
       "      <th></th>\n",
       "      <th>week_number</th>\n",
       "      <th>ticket_amount</th>\n",
       "      <th>festival_week</th>\n",
       "      <th>festival_name</th>\n",
       "    </tr>\n",
       "  </thead>\n",
       "  <tbody>\n",
       "    <tr>\n",
       "      <td>0</td>\n",
       "      <td>30</td>\n",
       "      <td>43568</td>\n",
       "      <td>30.0</td>\n",
       "      <td>Park Live</td>\n",
       "    </tr>\n",
       "    <tr>\n",
       "      <td>1</td>\n",
       "      <td>31</td>\n",
       "      <td>51034</td>\n",
       "      <td>31.0</td>\n",
       "      <td>Пикник Афиши</td>\n",
       "    </tr>\n",
       "    <tr>\n",
       "      <td>2</td>\n",
       "      <td>32</td>\n",
       "      <td>51675</td>\n",
       "      <td>NaN</td>\n",
       "      <td>NaN</td>\n",
       "    </tr>\n",
       "    <tr>\n",
       "      <td>3</td>\n",
       "      <td>33</td>\n",
       "      <td>51378</td>\n",
       "      <td>NaN</td>\n",
       "      <td>NaN</td>\n",
       "    </tr>\n",
       "    <tr>\n",
       "      <td>4</td>\n",
       "      <td>34</td>\n",
       "      <td>51492</td>\n",
       "      <td>NaN</td>\n",
       "      <td>NaN</td>\n",
       "    </tr>\n",
       "    <tr>\n",
       "      <td>5</td>\n",
       "      <td>35</td>\n",
       "      <td>51360</td>\n",
       "      <td>NaN</td>\n",
       "      <td>NaN</td>\n",
       "    </tr>\n",
       "    <tr>\n",
       "      <td>6</td>\n",
       "      <td>36</td>\n",
       "      <td>51386</td>\n",
       "      <td>36.0</td>\n",
       "      <td>Видфест</td>\n",
       "    </tr>\n",
       "    <tr>\n",
       "      <td>7</td>\n",
       "      <td>37</td>\n",
       "      <td>51670</td>\n",
       "      <td>NaN</td>\n",
       "      <td>NaN</td>\n",
       "    </tr>\n",
       "    <tr>\n",
       "      <td>8</td>\n",
       "      <td>38</td>\n",
       "      <td>51518</td>\n",
       "      <td>NaN</td>\n",
       "      <td>NaN</td>\n",
       "    </tr>\n",
       "    <tr>\n",
       "      <td>9</td>\n",
       "      <td>39</td>\n",
       "      <td>51623</td>\n",
       "      <td>NaN</td>\n",
       "      <td>NaN</td>\n",
       "    </tr>\n",
       "  </tbody>\n",
       "</table>\n",
       "</div>"
      ],
      "text/plain": [
       "   week_number  ticket_amount  festival_week festival_name\n",
       "0           30          43568           30.0     Park Live\n",
       "1           31          51034           31.0  Пикник Афиши\n",
       "2           32          51675            NaN           NaN\n",
       "3           33          51378            NaN           NaN\n",
       "4           34          51492            NaN           NaN\n",
       "5           35          51360            NaN           NaN\n",
       "6           36          51386           36.0       Видфест\n",
       "7           37          51670            NaN           NaN\n",
       "8           38          51518            NaN           NaN\n",
       "9           39          51623            NaN           NaN"
      ]
     },
     "execution_count": 10,
     "metadata": {},
     "output_type": "execute_result"
    }
   ],
   "source": [
    "query_last"
   ]
  },
  {
   "cell_type": "markdown",
   "metadata": {},
   "source": [
    "Only 10 rows.  \n",
    "We have very little data, only three weeks with festivals and 7 without, these data are part of one general population, for statistical analysis and hypothesis testing it is catastrophically small, but what is, that is.\n",
    "\n",
    "Всего 10 строк.  \n",
    "У нас очень мало данных, всего три недели с фестивалями и 7 без, эти данные являются частью одной генеральной совокупности, для статистического анализа и проверок гипотез это катастрофически мало, но что есть, то есть. "
   ]
  },
  {
   "cell_type": "markdown",
   "metadata": {},
   "source": [
    "Let's formulate hypotheses:\n",
    "___Null hypothesis___:\n",
    "- the average demand for tickets during festivals is equal to the average demand for tickets at regular times,\n",
    "\n",
    "___Alternative hypothesis___:\n",
    "- the average demand for tickets during festivals is different from the average demand for tickets at normal times.\n",
    "\n",
    "The hypothesis is two-sided, since we are not interested in whether the demand is greater or less. Set the significance level alpha = 0.05.\n",
    "\n",
    "First we need to check the distribution type. Let's separate the number of tickets during festivals and at normal times.  \n",
    "\n",
    "Сформулируем гипотезы:  \n",
    "___Нулевая гипотеза___:\n",
    " - средний спрос на билеты во время фестивалей равен среднему спросу на билеты в обычное время,  \n",
    " \n",
    "___Альтернативная гипотеза___:\n",
    " - средний спрос на билеты во время фестивалей отличается от среднего спроса на билеты в обычное время.  \n",
    "\n",
    "Гипотеза двусторонняя, поскольку нас не интересует, больше спрос или меньше. Установим уровень значимости alpha = 0.05.  \n",
    "\n",
    "Для начала нужно проверить тип распределения. Отделим количество билетов во время фестивалей и в обычное время."
   ]
  },
  {
   "cell_type": "code",
   "execution_count": 11,
   "metadata": {},
   "outputs": [],
   "source": [
    "alpha = 0.05"
   ]
  },
  {
   "cell_type": "code",
   "execution_count": 12,
   "metadata": {},
   "outputs": [],
   "source": [
    "all_flights = query_last.ticket_amount.values  ## all tickets\n",
    "flights_festivals = query_last[query_last[\"festival_week\"].notna()].ticket_amount.values\n",
    "flights_no_festivals = query_last[\n",
    "    query_last[\"festival_week\"].isna()\n",
    "].ticket_amount.values"
   ]
  },
  {
   "cell_type": "code",
   "execution_count": 13,
   "metadata": {},
   "outputs": [
    {
     "data": {
      "text/plain": [
       "array([43568, 51034, 51386])"
      ]
     },
     "execution_count": 13,
     "metadata": {},
     "output_type": "execute_result"
    },
    {
     "data": {
      "text/plain": [
       "array([51675, 51378, 51492, 51360, 51670, 51518, 51623])"
      ]
     },
     "execution_count": 13,
     "metadata": {},
     "output_type": "execute_result"
    }
   ],
   "source": [
    "flights_festivals\n",
    "flights_no_festivals"
   ]
  },
  {
   "cell_type": "markdown",
   "metadata": {},
   "source": [
    "## Check for the normality of the distribution (Gaussian distribution)\n",
    "___Null hypothesis: the data is distributed normally, the alternative is that the distribution is different from the normal one.___  \n",
    "\n",
    "### D'Agostino Test  \n",
    " \n",
    "This test does not work when the number of data is less than 8, so you can not check separately arrivals in the weeks of festivals and without. We will check the arrivals for the entire period of time, since they are part of the same general population.\n",
    "\n",
    "## Проверка на нормальность распределения (распределение Гаусса)\n",
    "___Нулевая гипотеза: данные распределены нормально, альтернативная - распределение отличается от нормального.___  \n",
    "\n",
    "### Тест Д'Агостино  \n",
    " \n",
    "Этот тест не работает при количестве данных меньше 8, поэтому нельзя проверить отдельно прилеты в недели фестивалей и без. Проверим  прилеты за весь промежуток времени, поскольку они являются частью одной генеральной совокупности."
   ]
  },
  {
   "cell_type": "code",
   "execution_count": 14,
   "metadata": {},
   "outputs": [
    {
     "name": "stdout",
     "output_type": "stream",
     "text": [
      "Все прилеты\n",
      "p = 7.80453e-07\n",
      "The null hypothesis can be rejected\n"
     ]
    }
   ],
   "source": [
    "print(\"Все прилеты\")\n",
    "_, p = st.normaltest(all_flights)\n",
    "\n",
    "print(\"p = {:g}\".format(p))\n",
    "# null hypothesis: x comes from a normal distribution\n",
    "if p < alpha:\n",
    "    print(\"The null hypothesis can be rejected\")\n",
    "else:\n",
    "    print(\"The null hypothesis cannot be rejected\")"
   ]
  },
  {
   "cell_type": "markdown",
   "metadata": {},
   "source": [
    "According to D'Agostino's criterion, the null hypothesis can be rejected, apparently, the distribution is different from the normal one.\n",
    "\n",
    "Let's try other tests for the normality of the distribution.  \n",
    "\n",
    "Согласно критерию Д'Агостино, нулевая гипотеза может быть отклонена, по всей видимости, распределение отличается от нормального.  \n",
    "\n",
    "Попробуем другие тесты на нормальность распределения."
   ]
  },
  {
   "cell_type": "markdown",
   "metadata": {},
   "source": [
    "### Shapiro-Wilk test for the normality of the distribution (Gaussian distribution).  \n",
    "### Тест Шапиро-Уилка - проверка на нормальность распределения (распределение Гаусса). \n"
   ]
  },
  {
   "cell_type": "code",
   "execution_count": 15,
   "metadata": {},
   "outputs": [
    {
     "name": "stdout",
     "output_type": "stream",
     "text": [
      "Спрос на билеты во время фестивалей\n",
      "p = 0.0761427\n",
      "The null hypothesis cannot be rejected\n",
      "\n",
      "Спрос на билеты в обычное время\n",
      "p = 0.296301\n",
      "The null hypothesis cannot be rejected\n"
     ]
    }
   ],
   "source": [
    "print(\"Спрос на билеты во время фестивалей\")\n",
    "_, p = st.shapiro(flights_festivals)\n",
    "print(\"p = {:g}\".format(p))\n",
    "# null hypothesis: x comes from a normal distribution\n",
    "if p < alpha:\n",
    "    print(\"The null hypothesis can be rejected\")\n",
    "else:\n",
    "    print(\"The null hypothesis cannot be rejected\")\n",
    "\n",
    "print(\"\\nСпрос на билеты в обычное время\")\n",
    "_, p = st.shapiro(flights_no_festivals)\n",
    "print(\"p = {:g}\".format(p))\n",
    "# null hypothesis: x comes from a normal distribution\n",
    "if p < alpha:\n",
    "    print(\"The null hypothesis can be rejected\")\n",
    "else:\n",
    "    print(\"The null hypothesis cannot be rejected\")"
   ]
  },
  {
   "cell_type": "markdown",
   "metadata": {},
   "source": [
    "According to the results of the Shapiro-Wilk test, the null hypothesis about the normality of the distribution cannot be rejected at the significance level of 0.05, that is, there is reason to assume that both samples are distributed normally.    \n",
    "Согласно результатам теста Шапиро-Уилка нулевая гипотеза о нормальности распределение не може быть отклонена на уровне значимости 0.05, то есть есть основания предполагать, что обе выборки распределены нормально."
   ]
  },
  {
   "cell_type": "markdown",
   "metadata": {},
   "source": [
    "### Anderson-Darling test  \n",
    "### Тест Андерсона-Дарлинга\n"
   ]
  },
  {
   "cell_type": "code",
   "execution_count": 16,
   "metadata": {},
   "outputs": [
    {
     "name": "stdout",
     "output_type": "stream",
     "text": [
      "Спрос на билеты во время фестивалей\n",
      "Распределение не нормальное при уровне значимости 15.0%\n",
      "Распределение не нормальное при уровне значимости 10.0%\n",
      "Распределение не нормальное при уровне значимости 5.0%\n",
      "Распределение не нормальное при уровне значимости 2.5%\n",
      "Распределение не нормальное при уровне значимости 1.0%\n",
      "\n",
      "Спрос на билеты в обычное время\n",
      "Распределение нормальное при уровне значимости 15.0%\n",
      "Распределение нормальное при уровне значимости 10.0%\n",
      "Распределение нормальное при уровне значимости 5.0%\n",
      "Распределение нормальное при уровне значимости 2.5%\n",
      "Распределение нормальное при уровне значимости 1.0%\n"
     ]
    }
   ],
   "source": [
    "print(\"Спрос на билеты во время фестивалей\")\n",
    "result = st.anderson(flights_festivals, dist=\"norm\")\n",
    "for i in range(len(result.critical_values)):\n",
    "    sl, cv = result.significance_level[i], result.critical_values[i]\n",
    "    if result.statistic < cv:\n",
    "        print(\"Распределение нормальное при уровне значимости %.1f%%\" % (sl))\n",
    "    else:\n",
    "        print(\"Распределение не нормальное при уровне значимости %.1f%%\" % (sl))\n",
    "\n",
    "print(\"\\nСпрос на билеты в обычное время\")\n",
    "result = st.anderson(flights_no_festivals, dist=\"norm\")\n",
    "for i in range(len(result.critical_values)):\n",
    "    sl, cv = result.significance_level[i], result.critical_values[i]\n",
    "    if result.statistic < cv:\n",
    "        print(\"Распределение нормальное при уровне значимости %.1f%%\" % (sl))\n",
    "    else:\n",
    "        print(\"Распределение не нормальное при уровне значимости %.1f%%\" % (sl))"
   ]
  },
  {
   "cell_type": "markdown",
   "metadata": {},
   "source": [
    "According to the results of Anderson-Darling test, the null hypothesis about the normality of the distribution cannot be rejected at a significance level of 0.05 for a sample with tickets at regular times, that is, there is reason to assume that it is distributed normally.\n",
    "\n",
    "For a sample with tickets during festivals, the null hypothesis can be rejected, apparently,the distribution is different from normal, although the sample consists of only three observations and it is difficult to talk about normality here.\n",
    "\n",
    "Since it is impossible to say unambiguously about the normality of the distribution based on the results obtained, we use parametric and nonparametric statistical tests for independent samples.  \n",
    "Our hypotheses again:  \n",
    "___Null hypothesis:___\n",
    "- the average demand for tickets during festivals is equal to the average demand for tickets at normal times,\n",
    "\n",
    "___Alternative hypothesis:___\n",
    "- the average demand for tickets during festivals differs from the average demand for tickets at normal times.\n",
    "\n",
    "\n",
    "\n",
    "Согласно результатам теста Андерсона-Дарлинга нулевая гипотеза о нормальности распределение не може быть отклонена на уровне значимости 0.05 для выборки с билетами в обычное время, то есть есть основания предполагать, что она  распределена нормально.\n",
    "\n",
    "Для выборки с билетами во время фестивалей нулевая гипотеза может быть отклонена, по всей видимости, распределение отличается от нормального,хотя выборка состоит всего из трех наблюдений и говорить о нормальности тут сложно.\n",
    "\n",
    "Поскольку на основании полученных результатов нельзя сказать однозначно о нормальности распределения, то используем параметрические и непараметрические статистические тесты для независимых выборок.  \n",
    "Еще раз гипотезы:   \n",
    "___Нулевая гипотеза:___\n",
    " - средний спрос на билеты во время фестивалей равен среднему спросу на билеты в обычное время,  \n",
    " \n",
    "___Альтернативная гипотеза:___\n",
    " - средний спрос на билеты во время фестивалей отличается от среднего спроса на билеты в обычное время. \n",
    "\n",
    "\n",
    "\n",
    "### t-Student's criterion\n",
    "Criterion for for independent samples with normal distribution  \n",
    "### t-критерий Стьюдента \n",
    "Критерий для для независимых выборок c нормальным распределением"
   ]
  },
  {
   "cell_type": "code",
   "execution_count": 17,
   "metadata": {},
   "outputs": [
    {
     "name": "stdout",
     "output_type": "stream",
     "text": [
      "p_value = 0.0969\n",
      "The null hypothesis cannot be rejected\n"
     ]
    }
   ],
   "source": [
    "p_value = st.ttest_ind(flights_no_festivals, flights_festivals).pvalue\n",
    "\n",
    "print(\"p_value = {:.4f}\".format(p_value))\n",
    "if p_value < alpha:\n",
    "    print(\"The null hypothesis can be rejected\")\n",
    "else:\n",
    "    print(\"The null hypothesis cannot be rejected\")"
   ]
  },
  {
   "cell_type": "markdown",
   "metadata": {},
   "source": [
    "According to the Student's t-test, null hypothesis cannot be rejected at a significance level of 0.05. That is, there is reason to assume that the average demand for tickets during festivals is equal to the average demand for tickets on normal days.  \n",
    "\n",
    "Согласно t-критерию Стьюдента нулевая не может быть отклонена на уровне значимости 0,05. То есть есть основания предполагать, что средний спрос на билеты во время фестивалей равен среднему спросу на билеты в обычные дни."
   ]
  },
  {
   "cell_type": "markdown",
   "metadata": {},
   "source": [
    "### Mann-Whitney criterion\n",
    "A nonparametric alternative to  t-test for independent samples whose distribution differs from the normal one.  \n",
    "### Критерий Манна-Уитни \n",
    "Непараметрическая альтернатива t-критерия для независимых выборок, распределение которых отличается от нормального."
   ]
  },
  {
   "cell_type": "code",
   "execution_count": 18,
   "metadata": {},
   "outputs": [
    {
     "name": "stdout",
     "output_type": "stream",
     "text": [
      "p_value = 0.0341\n",
      "The null hypothesis can be rejected\n"
     ]
    }
   ],
   "source": [
    "p_value = st.mannwhitneyu(flights_no_festivals, flights_festivals).pvalue\n",
    "print(\"p_value = {:.4f}\".format(p_value))\n",
    "if p_value < alpha:\n",
    "    print(\"The null hypothesis can be rejected\")\n",
    "else:\n",
    "    print(\"The null hypothesis cannot be rejected\")"
   ]
  },
  {
   "cell_type": "markdown",
   "metadata": {},
   "source": [
    "According to  Mann-Whitney criterion, the null hypothesis that the average demand for tickets during festivals is equal to the average demand for tickets at normal times can be rejected at the significance level of 0.05, however, if the significance level is set to 0.01, there will be no reason to reject the null hypothesis.\n",
    "\n",
    "Согласно критерию Манна-Уитни нулевая гипотеза о том, что средний спрос на билеты во время фестивалей равен среднему спросу на билеты в обычное время, может быть отклонена на уровне значимости 0,05, однако, если установить уровень значимости в 0.01, то не будет основания отвергнуть нулевую гипотезу."
   ]
  },
  {
   "cell_type": "markdown",
   "metadata": {},
   "source": [
    "<a id='3'></a>"
   ]
  },
  {
   "cell_type": "markdown",
   "metadata": {},
   "source": [
    "## 3. Conclusions.\n",
    "- The study of flights amount for each model of aircraft in September 2018 showed that small local and regional planes fly more often, the larger the aircraft and the higher the flight range, the fewer the number of flights per day.\n",
    "- Most of the flights land in Moscow, apparently, this is due not only to the population of Moscow, but also to the fact that there are transfers to many flights in Moscow.\n",
    "- In the top ten cities by the amount of flights per day, there are mainly cities with millions of people, starting from the 8th position-cities with a population of 400-600 thousand people. That is, the number of flights may depend on the population of the city. But it is difficult to draw unambiguous conclusions based only on the available information, for a more accurate analysis it would also be good to have data on the number of people arriving.\n",
    "- The number of flights depends not only on the population of the city, so, on the 11th place is the city of Severny with a population of 29,000 people. In this case, information about the availability of other available transport to this city, about the number of people arriving, about the types of planes arriving, about the availability of transfers to other cities, etc. would also be useful.\n",
    "- The analysis showed that most likely the average demand for tickets during festivals is equal to the average demand for tickets on normal days, but the amount of data is very small, for a more accurate analysis and verification of hypotheses, it would be good to have data for a longer time period.\n",
    "\n",
    "## 3. Выводы.\n",
    " - Изучение количеств  рейсов для каждой модели самолетов в сентябре 2018 года показало, что чаще всего летают маленькие самолеты местного и регионального сообщения, чем крупнее самолет и выше дальность перелетов, тем меньше количество рейсов в день.\n",
    " - Больше всего рейсов приземляется в Москве, по-видимому, это связано не только с населением Москвы, но и с тем, что в Москве происходят пересадки на многие рейсы.\n",
    " - В первой десятке городов по количеству рейсов в день - в основном города-миллионники, начиная с 8 позиции - города с населением 400-600тыс человек. То есть, количество рейсов может зависеть от населения города. Но однозначно делать выводы на основании только имеющейся информации сложно, для более точного анализа было бы хорошо также иметь данные по количеству прилетающих людей.\n",
    " - Количество рейсов зависит не только от населения города, так, на 11 месте - город Северный с населением 29000 человек. В данном случае полезной оказалась бы также информация о наличии другого доступного транспорта в этот город, о количестве прилетающих людей, о типах прилетающих самолетов, о наличи пересадок в другие города и т.д.\n",
    " - проведенный анализ показал, что скорее всего средний спрос на билеты во время фестивалей равен среднему спросу на билеты в обычные дни, но количество данных очень маленькое, для более точного анализа и проверки гипоиезы хорошо бы иметь данные за более длительный временной промежуток."
   ]
  },
  {
   "cell_type": "code",
   "execution_count": null,
   "metadata": {},
   "outputs": [],
   "source": []
  }
 ],
 "metadata": {
  "kernelspec": {
   "display_name": "Python 3",
   "language": "python",
   "name": "python3"
  },
  "language_info": {
   "codemirror_mode": {
    "name": "ipython",
    "version": 3
   },
   "file_extension": ".py",
   "mimetype": "text/x-python",
   "name": "python",
   "nbconvert_exporter": "python",
   "pygments_lexer": "ipython3",
   "version": "3.8.5"
  },
  "toc": {
   "base_numbering": 1,
   "nav_menu": {},
   "number_sections": true,
   "sideBar": true,
   "skip_h1_title": true,
   "title_cell": "Table of Contents",
   "title_sidebar": "Contents",
   "toc_cell": false,
   "toc_position": {},
   "toc_section_display": true,
   "toc_window_display": false
  }
 },
 "nbformat": 4,
 "nbformat_minor": 4
}
